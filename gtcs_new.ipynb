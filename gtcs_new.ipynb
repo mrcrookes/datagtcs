{
 "cells": [
  {
   "cell_type": "markdown",
   "id": "dd58c89c",
   "metadata": {},
   "source": [
    "## Import libraries and define functions"
   ]
  },
  {
   "cell_type": "code",
   "execution_count": null,
   "id": "804c65bb",
   "metadata": {},
   "outputs": [],
   "source": [
    "# Import librarys\n",
    "import pandas as pd\n",
    "import numpy as np"
   ]
  },
  {
   "cell_type": "code",
   "execution_count": null,
   "id": "95aa2322",
   "metadata": {},
   "outputs": [],
   "source": [
    "# Define tidy up initial df\n",
    "def tidy(df):\n",
    "    \n",
    "    #### Fix usual issues with all strings\n",
    "    \n",
    "    # Capitalise columns\n",
    "    df = df.map(lambda x: x.upper() if type(x) is str else x)\n",
    "\n",
    "    # Strip whitespace\n",
    "    df = df.map(lambda x: x.strip() if type(x) is str else x)\n",
    "\n",
    "    # Remove parenthesis\n",
    "    df = df.map(lambda x: x.replace('(', '') if type(x) is str else x)\n",
    "    df = df.map(lambda x: x.replace(')', '') if type(x) is str else x)\n",
    "    \n",
    "    # Remove linebreaks\n",
    "    df = df.map(lambda x: x.replace('\\n', '') if type(x) is str else x)\n",
    "\n",
    "    # Replace annoying substrings\n",
    "    df = df.map(lambda x: x.replace(' AND ', ' & ') if type(x) is str else x)\n",
    "    df = df.map(lambda x: x.replace(' – ', ' - ') if type(x) is str else x)\n",
    "    df = df.map(lambda x: x.replace(' / ', '/') if type(x) is str else x)\n",
    "    df = df.map(lambda x: x.replace('/ ', '/') if type(x) is str else x)\n",
    "    df = df.map(lambda x: x.replace(' /', '/') if type(x) is str else x)\n",
    "    \n",
    "    # Capitalise headers\n",
    "    df.columns = df.columns.astype(str).str.upper()\n",
    "\n",
    "    # Remove parenthesis from column headers\n",
    "    df.columns = df.columns.map(lambda x: x.replace('(', '') if type(x) is str else x)\n",
    "    df.columns = df.columns.map(lambda x: x.replace(')', '') if type(x) is str else x)\n",
    "    \n",
    "    # Strip whitespace from headers\n",
    "    df.columns = df.columns.map(lambda x: x.strip() if type(x) is str else x)\n",
    "\n",
    "    return df"
   ]
  },
  {
   "cell_type": "markdown",
   "id": "80475a23",
   "metadata": {},
   "source": [
    "## Read in and tidy data"
   ]
  },
  {
   "cell_type": "code",
   "execution_count": null,
   "id": "98e1fb8f",
   "metadata": {},
   "outputs": [],
   "source": [
    "# Read in csv\n",
    "raw = pd.read_excel('./data/FOI 24 25 Review 01 Records_updated.xlsx', skiprows=2)"
   ]
  },
  {
   "cell_type": "code",
   "execution_count": null,
   "id": "eab7a5d2",
   "metadata": {},
   "outputs": [],
   "source": [
    "# Create working df\n",
    "df = raw.copy()\n",
    "\n",
    "# Tidy df\n",
    "df = tidy(df)\n",
    "\n",
    "# Rename columns\n",
    "df = df.rename(columns = {'REGISTRATION STATUS':'STATUS', 'LAST KNOWN EMPLOYER':'EMPLOYER'})\n",
    "\n",
    "df.head()"
   ]
  },
  {
   "cell_type": "markdown",
   "id": "88632439",
   "metadata": {},
   "source": [
    "## Add new column with level"
   ]
  },
  {
   "cell_type": "code",
   "execution_count": null,
   "id": "1abce6d8",
   "metadata": {},
   "outputs": [],
   "source": [
    "# Drop rows with NaN in Qualification(s) column as will give error\n",
    "df = df.dropna(subset=['QUALIFICATIONS'])\n",
    "\n",
    "# Define function to return level by looking through QUALIFICATIONS column cells\n",
    "def level(row):\n",
    "    \n",
    "    # Create empty list\n",
    "    id = []\n",
    "    \n",
    "    # Append to list if string contains SECONDARY EDUCATION etc.\n",
    "    if 'SECONDARY EDUCATION' in row['QUALIFICATIONS']:\n",
    "        id.append('S')\n",
    "        \n",
    "    if 'SECONDARY SCHOOL' in row['QUALIFICATIONS']:\n",
    "        id.append('S')\n",
    "    \n",
    "    if 'PRIMARY EDUCATION' in row['QUALIFICATIONS']:\n",
    "        id.append('P')\n",
    "        \n",
    "    if 'PRIMARY SCHOOL' in row['QUALIFICATIONS']:\n",
    "        id.append('P')\n",
    "\n",
    "    if 'FURTHER EDUCATION' in row['QUALIFICATIONS']:\n",
    "        id.append('F')\n",
    "        \n",
    "    if '3-18' in row['QUALIFICATIONS']:\n",
    "        id.append('3-18')\n",
    "        \n",
    "    if 'NAMED SCHOOL ONLY' in row['QUALIFICATIONS']:\n",
    "        id.append('N')\n",
    "        \n",
    "    if 'TEACHER EDUCATION INSTITUTION' in row['QUALIFICATIONS']:\n",
    "        id.append('T')\n",
    "\n",
    "    if 'CROSS SECTOR' in row['QUALIFICATIONS']:\n",
    "        id.append('C')\n",
    "                \n",
    "    # If length of list is longer that 1 then return 'MULTI' for mulitple levels\n",
    "    if len(id) > 0:\n",
    "    \n",
    "        if len(id) > 1:\n",
    "            return 'M'\n",
    "        \n",
    "        # Else return level as string\n",
    "        else:\n",
    "            return ''.join(id)\n",
    "    \n",
    "    # Else return level as OTHER\n",
    "    else:\n",
    "        return 'O'\n",
    "    \n",
    "# Apply function to each row\n",
    "df['LEVEL'] = df.apply(lambda row: level(row), axis=1)\n",
    "\n",
    "df.head()"
   ]
  },
  {
   "cell_type": "markdown",
   "id": "563110cc",
   "metadata": {},
   "source": [
    "## Reduce file size (starting from 6.1 mb)"
   ]
  },
  {
   "cell_type": "code",
   "execution_count": null,
   "id": "ea19dc63",
   "metadata": {},
   "outputs": [],
   "source": [
    "# Shorten sex column\n",
    "df['SEX'] = df['SEX'].str.replace('FEMALE', 'F')\n",
    "df['SEX'] = df['SEX'].str.replace('MALE', 'M')\n",
    "df['SEX'] = df['SEX'].str.replace('PREFER NOT TO SAY', 'X')\n",
    "\n",
    "# Shorten status column\n",
    "df['STATUS'] = df['STATUS'].str.replace('FULL ASSOCIATE', 'A')\n",
    "df['STATUS'] = df['STATUS'].str.replace('FULL GENERAL', 'F')\n",
    "df['STATUS'] = df['STATUS'].str.replace('PROVISIONAL', 'P')\n",
    "\n",
    "# Shorten qualification column+\n",
    "df['EMPLOYER'] = df['EMPLOYER'].str.replace('FURTHER EDUCATION SECTOR', 'F')\n",
    "df['EMPLOYER'] = df['EMPLOYER'].str.replace('LOCAL AUTHORITY', 'L')\n",
    "df['EMPLOYER'] = df['EMPLOYER'].str.replace('INDEPENDENT SCHOOLS', 'I')\n",
    "df['EMPLOYER'] = df['EMPLOYER'].str.replace('NOT CURRENTLY WORKING', 'N')\n",
    "df['EMPLOYER'] = df['EMPLOYER'].str.replace('OTHER', 'O')"
   ]
  },
  {
   "cell_type": "code",
   "execution_count": null,
   "id": "c830ff3d",
   "metadata": {},
   "outputs": [],
   "source": [
    "# # Shorten qualification column\n",
    "df['QUALIFICATIONS'] = df['QUALIFICATIONS'].str.replace('FURTHER EDUCATION FE', 'F')\n",
    "df['QUALIFICATIONS'] = df['QUALIFICATIONS'].str.replace('SECONDARY EDUCATION', 'S')\n",
    "df['QUALIFICATIONS'] = df['QUALIFICATIONS'].str.replace('SECONDARY SCHOOL - ', 'S')\n",
    "\n",
    "df['QUALIFICATIONS'] = df['QUALIFICATIONS'].str.replace('PRIMARY EDUCATION PRIMARY EDUCATION WITH TRANSITION'\n",
    "                                                                , 'P WITH TRANSITION')\n",
    "df['QUALIFICATIONS'] = df['QUALIFICATIONS'].str.replace('PRIMARY EDUCATION PRIMARY', 'P')\n",
    "df['QUALIFICATIONS'] = df['QUALIFICATIONS'].str.replace('P SCHOOL - ', 'P')\n",
    "df['QUALIFICATIONS'] = df['QUALIFICATIONS'].str.replace('CROSS SECTOR', 'CROSS-SECTOR')\n",
    "df['QUALIFICATIONS'] = df['QUALIFICATIONS'].str.replace('NAMED SCHOOL ONLY', 'NSO')\n",
    "df['QUALIFICATIONS'] = df['QUALIFICATIONS'].str.replace('NSO NSO', 'NSO')\n",
    "df['QUALIFICATIONS'] = df['QUALIFICATIONS'].str.replace(\n",
    "                            'TEACHER EDUCATION INSTITUTION TEACHER EDUCATION INSTITUTION',\n",
    "                                'TEACHER EDUCATION INSTITUTION')\n",
    "\n",
    "df['QUALIFICATIONS'] = df['QUALIFICATIONS'].str.replace('TECHNOLOGICAL EDUCATION', 'TECH')\n",
    "df['QUALIFICATIONS'] = df['QUALIFICATIONS'].str.replace('TECHNICAL EDUCATION', 'TECH')\n",
    "df['QUALIFICATIONS'] = df['QUALIFICATIONS'].str.replace('PHYSICAL EDUCATION', 'PE')\n",
    "df['QUALIFICATIONS'] = df['QUALIFICATIONS'].str.replace('PHYSICAL ED.', 'PE')\n",
    "df['QUALIFICATIONS'] = df['QUALIFICATIONS'].str.replace('BUSINESS EDUCATION', 'BUSINESS')\n",
    "df['QUALIFICATIONS'] = df['QUALIFICATIONS'].str.replace('BUSINESS STUDIES', 'BUSINESS')\n",
    "df['QUALIFICATIONS'] = df['QUALIFICATIONS'].str.replace('RELIGIOUS EDUCATION', 'RE')\n",
    "df['QUALIFICATIONS'] = df['QUALIFICATIONS'].str.replace('HOME ECONOMICS', 'HE')\n",
    "df['QUALIFICATIONS'] = df['QUALIFICATIONS'].str.replace('CLASSICS CLASSICAL STUDIES', 'CLASSICS')\n",
    "df['QUALIFICATIONS'] = df['QUALIFICATIONS'].str.replace('ASN 3-18 ADDITIONAL SUPPORT NEEDS', '3-18 ASN')\n",
    "df['QUALIFICATIONS'] = df['QUALIFICATIONS'].str.replace('COMPUTING SCIENCE', 'COMPUTING')\n",
    "df['QUALIFICATIONS'] = df['QUALIFICATIONS'].str.replace('MATHEMATICS', 'MATHS')\n",
    "\n",
    "df['QUALIFICATIONS'] = df['QUALIFICATIONS'].str.replace('ASN 3-18 ADDITIONAL SUPPORT NEEDS', '3-18 ASN')\n",
    "df['QUALIFICATIONS'] = df['QUALIFICATIONS'].str.replace('TESOL 3-18 TESOL', '3-18 TESOL')\n",
    "df['QUALIFICATIONS'] = df['QUALIFICATIONS'].str.replace('DANCE 3-18 DANCE', '3-18 DANCE')\n",
    "\n",
    "df['QUALIFICATIONS'] = df['QUALIFICATIONS'].str.replace('MODERN LANGUAGES - ', '')\n",
    "df['QUALIFICATIONS'] = df['QUALIFICATIONS'].str.replace(' WITH SCIENCE', '')\n",
    "df['QUALIFICATIONS'] = df['QUALIFICATIONS'].str.replace('- ENGLISH', 'ENGLISH')\n",
    "\n",
    "df['QUALIFICATIONS'] = df['QUALIFICATIONS'].str.replace('S E N', 'SEN')\n",
    "df['QUALIFICATIONS'] = df['QUALIFICATIONS'].str.replace('S F L', 'SFL')\n",
    "df['QUALIFICATIONS'] = df['QUALIFICATIONS'].str.replace('SUPPORT FOR LEARNING', 'SFL')\n",
    "\n",
    "# Strip whitespace\n",
    "df = df.map(lambda x: x.strip() if type(x) is str else x)"
   ]
  },
  {
   "cell_type": "code",
   "execution_count": null,
   "id": "e334aebe",
   "metadata": {},
   "outputs": [],
   "source": [
    "# Sort columns\n",
    "df = df.sort_values(by=['STATUS', 'LEVEL', 'QUALIFICATIONS', 'EMPLOYER', 'SEX'])"
   ]
  },
  {
   "cell_type": "code",
   "execution_count": null,
   "id": "b4faed27",
   "metadata": {},
   "outputs": [],
   "source": [
    "df.head()"
   ]
  },
  {
   "cell_type": "code",
   "execution_count": null,
   "id": "82cf3b92",
   "metadata": {},
   "outputs": [],
   "source": [
    "df.to_csv('./csvs/gtcs.csv', index=False)"
   ]
  },
  {
   "cell_type": "code",
   "execution_count": null,
   "id": "2da67bcc",
   "metadata": {},
   "outputs": [],
   "source": []
  },
  {
   "cell_type": "code",
   "execution_count": null,
   "id": "c3584ad0",
   "metadata": {},
   "outputs": [],
   "source": []
  }
 ],
 "metadata": {
  "kernelspec": {
   "display_name": "Python 3 (ipykernel)",
   "language": "python",
   "name": "python3"
  },
  "language_info": {
   "codemirror_mode": {
    "name": "ipython",
    "version": 3
   },
   "file_extension": ".py",
   "mimetype": "text/x-python",
   "name": "python",
   "nbconvert_exporter": "python",
   "pygments_lexer": "ipython3",
   "version": "3.12.3"
  }
 },
 "nbformat": 4,
 "nbformat_minor": 5
}
